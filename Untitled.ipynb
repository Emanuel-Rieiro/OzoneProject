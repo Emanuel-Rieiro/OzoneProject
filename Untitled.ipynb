{
 "cells": [
  {
   "cell_type": "code",
   "execution_count": 1,
   "id": "827055ee",
   "metadata": {},
   "outputs": [],
   "source": [
    "import pandas as pd"
   ]
  },
  {
   "cell_type": "code",
   "execution_count": 5,
   "id": "823aae98",
   "metadata": {},
   "outputs": [],
   "source": [
    "df_air_1 = pd.read_excel('AIRS3STD v7.0.xlsx')\n",
    "df_air_2 = pd.read_excel('AIRS3STD v7.0 2.xlsx')\n",
    "df_air_3 = pd.read_excel('AIRS3STD v7.0 3.xlsx')\n",
    "\n",
    "df_uv = pd.read_excel('OMUVBd v003/OMUVBd v003 data.xlsx')\n",
    "\n",
    "df_oz = pd.read_excel('OMTO3d data.xlsx')"
   ]
  },
  {
   "cell_type": "code",
   "execution_count": 8,
   "id": "06496119",
   "metadata": {},
   "outputs": [],
   "source": [
    "df_air = pd.concat([df_air_1, df_air_2, df_air_3])"
   ]
  },
  {
   "cell_type": "code",
   "execution_count": 27,
   "id": "34ec0e16",
   "metadata": {},
   "outputs": [],
   "source": [
    "df_air.rename({'CF_Index':'Value'}, axis = 1, inplace = True)\n",
    "df_uv.rename({'UV_Index':'Value'}, axis = 1, inplace = True)\n",
    "df_oz.rename({'Ozone':'Value'}, axis = 1, inplace = True)"
   ]
  },
  {
   "cell_type": "code",
   "execution_count": 28,
   "id": "ed0eda6d",
   "metadata": {},
   "outputs": [],
   "source": [
    "df_final = pd.concat([df_air, df_uv, df_oz])"
   ]
  },
  {
   "cell_type": "code",
   "execution_count": 67,
   "id": "902dfec7",
   "metadata": {},
   "outputs": [],
   "source": [
    "df_final['Date'] = pd.to_datetime(df_final['Date'])"
   ]
  },
  {
   "cell_type": "code",
   "execution_count": null,
   "id": "843e3626",
   "metadata": {},
   "outputs": [],
   "source": [
    "df_final['Key'] = pd.to_datetime(df_final['Date']).astype(str) + df_final['Latitude'].astype(str) + df_final['Longitude'].astype(str)"
   ]
  },
  {
   "cell_type": "code",
   "execution_count": 78,
   "id": "649c7864",
   "metadata": {},
   "outputs": [],
   "source": [
    "df_final_pivot = df_final.pivot(columns = 'Metric', index = 'Key', values = 'Value').reset_index()"
   ]
  },
  {
   "cell_type": "code",
   "execution_count": 82,
   "id": "6dba5dc2",
   "metadata": {},
   "outputs": [],
   "source": [
    "df_final_pivot.to_excel('df_final.xlsx', index = False)"
   ]
  }
 ],
 "metadata": {
  "hide_input": false,
  "kernelspec": {
   "display_name": "pytesseract",
   "language": "python",
   "name": "pytesseract"
  },
  "language_info": {
   "codemirror_mode": {
    "name": "ipython",
    "version": 3
   },
   "file_extension": ".py",
   "mimetype": "text/x-python",
   "name": "python",
   "nbconvert_exporter": "python",
   "pygments_lexer": "ipython3",
   "version": "3.9.12"
  },
  "toc": {
   "base_numbering": 1,
   "nav_menu": {},
   "number_sections": true,
   "sideBar": true,
   "skip_h1_title": false,
   "title_cell": "Table of Contents",
   "title_sidebar": "Contents",
   "toc_cell": false,
   "toc_position": {},
   "toc_section_display": true,
   "toc_window_display": false
  }
 },
 "nbformat": 4,
 "nbformat_minor": 5
}
