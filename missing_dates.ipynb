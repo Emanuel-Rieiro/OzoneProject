{
 "cells": [
  {
   "cell_type": "markdown",
   "id": "df5ffdbb",
   "metadata": {},
   "source": [
    "Notebook creada para verificar fechas faltantes en un conjunto de arhivos con fecha en el nombre"
   ]
  },
  {
   "cell_type": "code",
   "execution_count": 28,
   "id": "b7d676e8",
   "metadata": {},
   "outputs": [],
   "source": [
    "link = 'https://data.gesdisc.earthdata.nasa.gov/data/Aura_OMI_Level3/OMTO3e.003/2024/OMI-Aura_L3-OMTO3e_2024m1108_v003-2024m1110t002840.he5'"
   ]
  },
  {
   "cell_type": "code",
   "execution_count": 32,
   "id": "7bf40c19",
   "metadata": {},
   "outputs": [
    {
     "data": {
      "text/plain": [
       "'20241108'"
      ]
     },
     "execution_count": 32,
     "metadata": {},
     "output_type": "execute_result"
    }
   ],
   "source": [
    "link.split('_')[4].replace('m','')"
   ]
  },
  {
   "cell_type": "code",
   "execution_count": 26,
   "id": "720e1716",
   "metadata": {},
   "outputs": [
    {
     "name": "stdout",
     "output_type": "stream",
     "text": [
      "Missing dates:\n",
      "20060228\n",
      "20060301\n",
      "20060302\n",
      "20080928\n",
      "20080929\n",
      "20081105\n",
      "20081106\n",
      "20090809\n",
      "20090811\n",
      "20090815\n",
      "20090816\n",
      "20090818\n",
      "20090819\n",
      "20090821\n",
      "20090822\n",
      "20090827\n",
      "20140409\n",
      "20140528\n",
      "20160530\n",
      "20160531\n",
      "20160601\n",
      "20160602\n",
      "20160603\n",
      "20160604\n",
      "20160605\n",
      "20160606\n",
      "20160607\n",
      "20160608\n",
      "20160609\n",
      "20160611\n",
      "20160612\n",
      "20170312\n",
      "20170313\n",
      "20170314\n",
      "20170315\n",
      "20170316\n",
      "20170317\n",
      "20191030\n",
      "20200208\n",
      "20200417\n",
      "20231203\n",
      "20240211\n",
      "20240328\n"
     ]
    }
   ],
   "source": [
    "import re\n",
    "import os\n",
    "from datetime import datetime, timedelta\n",
    "\n",
    "files_dir = 'OZONO/DIARIO/OMTO3e'\n",
    "filenames = [f for f in os.listdir(files_dir) if os.path.isfile(os.path.join(files_dir, f)) and f.split('.')[-1] == 'he5']\n",
    "\n",
    "# Extract dates from filenames\n",
    "date_format = \"%Y%m%d\"\n",
    "dates = []\n",
    "\n",
    "for name in filenames:\n",
    "    date = datetime.strptime(name.split('_')[2].replace('m',''), date_format)\n",
    "    dates.append(date)\n",
    "\n",
    "# Sort the dates\n",
    "dates.sort()\n",
    "\n",
    "# Check for missing dates\n",
    "missing = []\n",
    "for i in range(1, len(dates)):\n",
    "    delta = (dates[i] - dates[i - 1]).days\n",
    "    if delta > 1:\n",
    "        for j in range(1, delta):\n",
    "            missing.append(dates[i - 1] + timedelta(days=j))\n",
    "\n",
    "missing_list = []\n",
    "\n",
    "# Output missing dates\n",
    "print(\"Missing dates:\")\n",
    "for d in missing:\n",
    "    print(d.strftime(date_format))\n",
    "    missing_list.append(d.strftime(date_format))"
   ]
  },
  {
   "cell_type": "code",
   "execution_count": 27,
   "id": "28beeb94",
   "metadata": {},
   "outputs": [
    {
     "data": {
      "text/plain": [
       "['20060228',\n",
       " '20060301',\n",
       " '20060302',\n",
       " '20080928',\n",
       " '20080929',\n",
       " '20081105',\n",
       " '20081106',\n",
       " '20090809',\n",
       " '20090811',\n",
       " '20090815',\n",
       " '20090816',\n",
       " '20090818',\n",
       " '20090819',\n",
       " '20090821',\n",
       " '20090822',\n",
       " '20090827',\n",
       " '20140409',\n",
       " '20140528',\n",
       " '20160530',\n",
       " '20160531',\n",
       " '20160601',\n",
       " '20160602',\n",
       " '20160603',\n",
       " '20160604',\n",
       " '20160605',\n",
       " '20160606',\n",
       " '20160607',\n",
       " '20160608',\n",
       " '20160609',\n",
       " '20160611',\n",
       " '20160612',\n",
       " '20170312',\n",
       " '20170313',\n",
       " '20170314',\n",
       " '20170315',\n",
       " '20170316',\n",
       " '20170317',\n",
       " '20191030',\n",
       " '20200208',\n",
       " '20200417',\n",
       " '20231203',\n",
       " '20240211',\n",
       " '20240328']"
      ]
     },
     "execution_count": 27,
     "metadata": {},
     "output_type": "execute_result"
    }
   ],
   "source": [
    "missing_list"
   ]
  }
 ],
 "metadata": {
  "hide_input": false,
  "kernelspec": {
   "display_name": "nc4_env",
   "language": "python",
   "name": "myenv"
  },
  "language_info": {
   "codemirror_mode": {
    "name": "ipython",
    "version": 3
   },
   "file_extension": ".py",
   "mimetype": "text/x-python",
   "name": "python",
   "nbconvert_exporter": "python",
   "pygments_lexer": "ipython3",
   "version": "3.10.16"
  },
  "toc": {
   "base_numbering": 1,
   "nav_menu": {},
   "number_sections": true,
   "sideBar": true,
   "skip_h1_title": false,
   "title_cell": "Table of Contents",
   "title_sidebar": "Contents",
   "toc_cell": false,
   "toc_position": {},
   "toc_section_display": true,
   "toc_window_display": false
  }
 },
 "nbformat": 4,
 "nbformat_minor": 5
}
