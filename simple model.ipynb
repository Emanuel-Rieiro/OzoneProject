{
 "cells": [
  {
   "cell_type": "code",
   "execution_count": 21,
   "id": "3d7a7761",
   "metadata": {},
   "outputs": [],
   "source": [
    "import pandas as pd\n",
    "import numpy as np\n",
    "from sklearn.linear_model import LinearRegression"
   ]
  },
  {
   "cell_type": "code",
   "execution_count": 3,
   "id": "7a2977f2",
   "metadata": {},
   "outputs": [],
   "source": [
    "df = pd.read_excel('df_final_paulo.xlsx')"
   ]
  },
  {
   "cell_type": "code",
   "execution_count": 7,
   "id": "ced2a388",
   "metadata": {},
   "outputs": [],
   "source": [
    "df_3 = df[df['Área'] == 'Área 3']"
   ]
  },
  {
   "cell_type": "code",
   "execution_count": 18,
   "id": "200411d7",
   "metadata": {},
   "outputs": [],
   "source": [
    "df_final = df_3[(~df_3['CF'].isna()) & (~df_3['OZ'].isna()) & (~df_3['UV'].isna())]"
   ]
  },
  {
   "cell_type": "code",
   "execution_count": 27,
   "id": "c86edacd",
   "metadata": {},
   "outputs": [],
   "source": [
    "x = df_final[['CF','OZ']].values\n",
    "y = df_final[['UV']].values"
   ]
  },
  {
   "cell_type": "code",
   "execution_count": 29,
   "id": "3b6b0e54",
   "metadata": {},
   "outputs": [],
   "source": [
    "model = LinearRegression().fit(x, y)"
   ]
  },
  {
   "cell_type": "code",
   "execution_count": 30,
   "id": "e62be8a2",
   "metadata": {},
   "outputs": [
    {
     "name": "stdout",
     "output_type": "stream",
     "text": [
      "coefficient of determination: 0.2258343553886839\n",
      "intercept: [17.19558382]\n",
      "coefficients: [[-5.2691796  -0.03036956]]\n"
     ]
    }
   ],
   "source": [
    "r_sq = model.score(x, y)\n",
    "print(f\"coefficient of determination: {r_sq}\")\n",
    "\n",
    "print(f\"intercept: {model.intercept_}\")\n",
    "\n",
    "print(f\"coefficients: {model.coef_}\")"
   ]
  },
  {
   "cell_type": "code",
   "execution_count": 31,
   "id": "73925388",
   "metadata": {},
   "outputs": [],
   "source": [
    "y_pred = model.intercept_ + np.sum(model.coef_ * x, axis=1)"
   ]
  },
  {
   "cell_type": "code",
   "execution_count": 32,
   "id": "5b6426ae",
   "metadata": {},
   "outputs": [
    {
     "name": "stdout",
     "output_type": "stream",
     "text": [
      "predicted response:\n",
      "[7.08564591 6.8179087  7.51013404 ... 7.85967828 4.89039589 5.05066889]\n"
     ]
    }
   ],
   "source": [
    "print(f\"predicted response:\\n{y_pred}\")"
   ]
  },
  {
   "cell_type": "code",
   "execution_count": 44,
   "id": "820eb284",
   "metadata": {},
   "outputs": [
    {
     "data": {
      "text/plain": [
       "array([7.08564591, 6.8179087 , 7.51013404, ..., 7.85967828, 4.89039589,\n",
       "       5.05066889])"
      ]
     },
     "execution_count": 44,
     "metadata": {},
     "output_type": "execute_result"
    }
   ],
   "source": [
    "np.asarray(y_pred).T"
   ]
  },
  {
   "cell_type": "code",
   "execution_count": 45,
   "id": "d13f4e47",
   "metadata": {},
   "outputs": [],
   "source": [
    "df_pred = pd.DataFrame(columns = ['Predictions', 'Real'])"
   ]
  },
  {
   "cell_type": "code",
   "execution_count": 46,
   "id": "f36579c8",
   "metadata": {},
   "outputs": [],
   "source": [
    "df_pred['Predictions'] = y_pred\n",
    "df_pred['Real'] = y"
   ]
  },
  {
   "cell_type": "code",
   "execution_count": 47,
   "id": "6fad0bce",
   "metadata": {},
   "outputs": [
    {
     "data": {
      "text/html": [
       "<div>\n",
       "<style scoped>\n",
       "    .dataframe tbody tr th:only-of-type {\n",
       "        vertical-align: middle;\n",
       "    }\n",
       "\n",
       "    .dataframe tbody tr th {\n",
       "        vertical-align: top;\n",
       "    }\n",
       "\n",
       "    .dataframe thead th {\n",
       "        text-align: right;\n",
       "    }\n",
       "</style>\n",
       "<table border=\"1\" class=\"dataframe\">\n",
       "  <thead>\n",
       "    <tr style=\"text-align: right;\">\n",
       "      <th></th>\n",
       "      <th>Predictions</th>\n",
       "      <th>Real</th>\n",
       "    </tr>\n",
       "  </thead>\n",
       "  <tbody>\n",
       "    <tr>\n",
       "      <th>0</th>\n",
       "      <td>7.085646</td>\n",
       "      <td>11.519078</td>\n",
       "    </tr>\n",
       "    <tr>\n",
       "      <th>1</th>\n",
       "      <td>6.817909</td>\n",
       "      <td>12.071371</td>\n",
       "    </tr>\n",
       "    <tr>\n",
       "      <th>2</th>\n",
       "      <td>7.510134</td>\n",
       "      <td>11.877135</td>\n",
       "    </tr>\n",
       "    <tr>\n",
       "      <th>3</th>\n",
       "      <td>8.813586</td>\n",
       "      <td>12.930849</td>\n",
       "    </tr>\n",
       "    <tr>\n",
       "      <th>4</th>\n",
       "      <td>6.583892</td>\n",
       "      <td>9.627149</td>\n",
       "    </tr>\n",
       "    <tr>\n",
       "      <th>...</th>\n",
       "      <td>...</td>\n",
       "      <td>...</td>\n",
       "    </tr>\n",
       "    <tr>\n",
       "      <th>3055</th>\n",
       "      <td>7.704671</td>\n",
       "      <td>11.590159</td>\n",
       "    </tr>\n",
       "    <tr>\n",
       "      <th>3056</th>\n",
       "      <td>3.965192</td>\n",
       "      <td>7.862203</td>\n",
       "    </tr>\n",
       "    <tr>\n",
       "      <th>3057</th>\n",
       "      <td>7.859678</td>\n",
       "      <td>11.637776</td>\n",
       "    </tr>\n",
       "    <tr>\n",
       "      <th>3058</th>\n",
       "      <td>4.890396</td>\n",
       "      <td>11.062555</td>\n",
       "    </tr>\n",
       "    <tr>\n",
       "      <th>3059</th>\n",
       "      <td>5.050669</td>\n",
       "      <td>11.149046</td>\n",
       "    </tr>\n",
       "  </tbody>\n",
       "</table>\n",
       "<p>3060 rows × 2 columns</p>\n",
       "</div>"
      ],
      "text/plain": [
       "      Predictions       Real\n",
       "0        7.085646  11.519078\n",
       "1        6.817909  12.071371\n",
       "2        7.510134  11.877135\n",
       "3        8.813586  12.930849\n",
       "4        6.583892   9.627149\n",
       "...           ...        ...\n",
       "3055     7.704671  11.590159\n",
       "3056     3.965192   7.862203\n",
       "3057     7.859678  11.637776\n",
       "3058     4.890396  11.062555\n",
       "3059     5.050669  11.149046\n",
       "\n",
       "[3060 rows x 2 columns]"
      ]
     },
     "execution_count": 47,
     "metadata": {},
     "output_type": "execute_result"
    }
   ],
   "source": [
    "df_pred"
   ]
  }
 ],
 "metadata": {
  "hide_input": false,
  "kernelspec": {
   "display_name": "pytesseract",
   "language": "python",
   "name": "pytesseract"
  },
  "language_info": {
   "codemirror_mode": {
    "name": "ipython",
    "version": 3
   },
   "file_extension": ".py",
   "mimetype": "text/x-python",
   "name": "python",
   "nbconvert_exporter": "python",
   "pygments_lexer": "ipython3",
   "version": "3.9.12"
  },
  "toc": {
   "base_numbering": 1,
   "nav_menu": {},
   "number_sections": true,
   "sideBar": true,
   "skip_h1_title": false,
   "title_cell": "Table of Contents",
   "title_sidebar": "Contents",
   "toc_cell": false,
   "toc_position": {},
   "toc_section_display": true,
   "toc_window_display": false
  }
 },
 "nbformat": 4,
 "nbformat_minor": 5
}
